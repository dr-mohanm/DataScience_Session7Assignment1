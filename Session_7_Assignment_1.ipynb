{
 "cells": [
  {
   "cell_type": "code",
   "execution_count": 1,
   "metadata": {},
   "outputs": [
    {
     "name": "stdout",
     "output_type": "stream",
     "text": [
      "Moving Average for problem statement 1 : \n",
      " [25. 35. 45. 55. 65. 75. 85.] \n",
      "\n",
      "Moving Average for problem statement 2 : \n",
      " [  5.           4.66666667   5.66666667   6.66666667   9.66666667\n",
      "  28.66666667  49.33333333  72.66666667  84.          93.33333333\n",
      " 116.33333333] \n",
      "\n"
     ]
    }
   ],
   "source": [
    "# Write a function to find moving average in an array over a window:\n",
    "# Given a sequence of n values x1, x2, ..., xn and a window size k>0, \n",
    "# the k-th moving average of the given sequence is defined as follows: \n",
    "# The moving average sequence has n-k+1 elements as shown below. \n",
    "\n",
    "import numpy as np\n",
    "\n",
    "# Defined a function to find the length and find the average.\n",
    "def mov_avg(val,window):\n",
    "# Find the length of the result window (n-k+1)\n",
    "        length=len(val)-window +1\n",
    "        listavg=[]\n",
    "\n",
    "# ar1 will run based on the length calcualted in the previous line.  \n",
    "# ar2 will pull the list for aggragate based on the window size. \n",
    "        ar1=np.array([val[i::] for i in range(length)])\n",
    "        ar2=[ar1.item(j)[:window] for j in range(length)]\n",
    "\n",
    "# Find the average of the moving window lists.\n",
    "        for k in range(length):\n",
    "            listavg.append(np.average(ar2[k]))\n",
    "        return(np.array(listavg))\n",
    "\n",
    "# Problem Statement 1\n",
    "val1=np.array([10, 20, 30, 40, 50, 60, 70, 80, 90, 100])\n",
    "print('Moving Average for problem statement 1 : \\n', mov_avg(val1,4),'\\n')\n",
    "\n",
    "# Problem Statement 2\n",
    "val2=np.array([3, 5, 7, 2, 8, 10, 11, 65, 72, 81, 99, 100, 150])\n",
    "print('Moving Average for problem statement 2 : \\n', mov_avg(val2,3),'\\n')"
   ]
  },
  {
   "cell_type": "code",
   "execution_count": 2,
   "metadata": {},
   "outputs": [
    {
     "name": "stdout",
     "output_type": "stream",
     "text": [
      "Moving Average for problem statement 1 : \n",
      " [25. 35. 45. 55. 65. 75. 85.] \n",
      "\n",
      "Moving Average for problem statement 2 : \n",
      " [  5.           4.66666667   5.66666667   6.66666667   9.66666667\n",
      "  28.66666667  49.33333333  72.66666667  84.          93.33333333\n",
      " 116.33333333] \n",
      "\n"
     ]
    }
   ],
   "source": [
    "# The same moving is done using Convolve function\n",
    "\n",
    "from numpy import convolve\n",
    "def movavg_conv(val,window):\n",
    "    weights=np.repeat(1.0,window)/window\n",
    "    average=np.convolve(val,weights,'valid')\n",
    "    return average\n",
    "\n",
    "# Problem Statement 1\n",
    "val1=np.array([10, 20, 30, 40, 50, 60, 70, 80, 90, 100])\n",
    "print('Moving Average for problem statement 1 : \\n', movavg_conv(val1,4),'\\n')\n",
    "\n",
    "# Problem Statement 2\n",
    "val2=np.array([3, 5, 7, 2, 8, 10, 11, 65, 72, 81, 99, 100, 150])\n",
    "print('Moving Average for problem statement 2 : \\n', movavg_conv(val2,3),'\\n')"
   ]
  },
  {
   "cell_type": "code",
   "execution_count": null,
   "metadata": {},
   "outputs": [],
   "source": []
  }
 ],
 "metadata": {
  "kernelspec": {
   "display_name": "Python 3",
   "language": "python",
   "name": "python3"
  },
  "language_info": {
   "codemirror_mode": {
    "name": "ipython",
    "version": 3
   },
   "file_extension": ".py",
   "mimetype": "text/x-python",
   "name": "python",
   "nbconvert_exporter": "python",
   "pygments_lexer": "ipython3",
   "version": "3.6.5"
  }
 },
 "nbformat": 4,
 "nbformat_minor": 2
}
